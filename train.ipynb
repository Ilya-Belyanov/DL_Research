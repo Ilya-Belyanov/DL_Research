{
 "cells": [
  {
   "cell_type": "markdown",
   "metadata": {
    "collapsed": true,
    "pycharm": {
     "name": "#%% md\n"
    }
   },
   "source": [
    "# Классификация рукописных цифр базы MNIST"
   ]
  },
  {
   "cell_type": "code",
   "execution_count": 1,
   "outputs": [],
   "source": [
    "from collections import namedtuple\n",
    "\n",
    "import matplotlib.pyplot as plt\n",
    "import numpy as np\n",
    "import PIL\n",
    "import torch\n",
    "import torch.nn as nn\n",
    "import torch.optim as optim\n",
    "import torchvision.datasets as dset\n",
    "from torch.utils.data.sampler import SubsetRandomSampler\n",
    "\n",
    "from torchvision import transforms\n",
    "\n",
    "from support import train_model, compute_loss_accuracy, Flattener"
   ],
   "metadata": {
    "collapsed": false,
    "pycharm": {
     "name": "#%%\n"
    }
   }
  },
  {
   "cell_type": "code",
   "execution_count": 15,
   "outputs": [
    {
     "name": "stdout",
     "output_type": "stream",
     "text": [
      "CPU\n"
     ]
    }
   ],
   "source": [
    "if torch.cuda.is_available():\n",
    "    device = torch.device('cuda:0')\n",
    "    print(\"CUDA\")\n",
    "else:\n",
    "    device = torch.device('cpu')\n",
    "    print(\"CPU\")"
   ],
   "metadata": {
    "collapsed": false,
    "pycharm": {
     "name": "#%%\n"
    }
   }
  },
  {
   "cell_type": "markdown",
   "source": [
    "Загружаем тренировочные данные"
   ],
   "metadata": {
    "collapsed": false,
    "pycharm": {
     "name": "#%% md\n"
    }
   }
  },
  {
   "cell_type": "code",
   "execution_count": 11,
   "outputs": [],
   "source": [
    "train_data = dset.MNIST('./data/', train=True, download=True,\n",
    "                    transform=transforms.Compose([\n",
    "                           transforms.ToTensor(),\n",
    "                           transforms.Normalize(mean=[0.43],\n",
    "                                               std=[0.20])\n",
    "                       ]))"
   ],
   "metadata": {
    "collapsed": false,
    "pycharm": {
     "name": "#%%\n"
    }
   }
  },
  {
   "cell_type": "markdown",
   "source": [
    "Отобразим данные"
   ],
   "metadata": {
    "collapsed": false,
    "pycharm": {
     "name": "#%% md\n"
    }
   }
  },
  {
   "cell_type": "code",
   "execution_count": 12,
   "outputs": [
    {
     "data": {
      "text/plain": "<Figure size 576x576 with 9 Axes>",
      "image/png": "[encoded data removed]"
     },
     "metadata": {
      "needs_background": "light"
     },
     "output_type": "display_data"
    }
   ],
   "source": [
    "figure = plt.figure(figsize=(8, 8))\n",
    "cols, rows = 3, 3\n",
    "for i in range(1, cols * rows + 1):\n",
    "    sample_idx = torch.randint(len(train_data), size=(1,)).item()\n",
    "    img, label = train_data[sample_idx]\n",
    "    figure.add_subplot(rows, cols, i)\n",
    "    plt.title(str(label))\n",
    "    plt.axis(\"off\")\n",
    "    plt.imshow(img.squeeze(), cmap=\"gray\")\n",
    "plt.show()"
   ],
   "metadata": {
    "collapsed": false,
    "pycharm": {
     "name": "#%%\n"
    }
   }
  },
  {
   "cell_type": "markdown",
   "source": [
    "Разделим тренировочные данные на тренировочные и валидационные"
   ],
   "metadata": {
    "collapsed": false,
    "pycharm": {
     "name": "#%% md\n"
    }
   }
  },
  {
   "cell_type": "code",
   "execution_count": 13,
   "outputs": [],
   "source": [
    "data_size = train_data.data.shape[0]\n",
    "validation_proc = 0.2\n",
    "split = int(np.floor(validation_proc * data_size))\n",
    "indices = list(range(data_size))\n",
    "np.random.shuffle(indices)\n",
    "\n",
    "train_indices, val_indices = indices[split:], indices[:split]\n",
    "\n",
    "train_sampler = SubsetRandomSampler(train_indices)\n",
    "val_sampler = SubsetRandomSampler(val_indices)\n",
    "\n",
    "batch_size = 64\n",
    "\n",
    "train_loader = torch.utils.data.DataLoader(train_data, batch_size=batch_size,\n",
    "                                           sampler=train_sampler)\n",
    "valid_loader = torch.utils.data.DataLoader(train_data, batch_size=batch_size,\n",
    "                                         sampler=val_sampler)"
   ],
   "metadata": {
    "collapsed": false,
    "pycharm": {
     "name": "#%%\n"
    }
   }
  },
  {
   "cell_type": "markdown",
   "source": [
    "### Создаем и тренируем модель\n",
    "Цели модели - достичь точности на тренировочных данных более 98% с менее чем 10.000 параметрами"
   ],
   "metadata": {
    "collapsed": false,
    "pycharm": {
     "name": "#%% md\n"
    }
   }
  },
  {
   "cell_type": "code",
   "execution_count": 18,
   "outputs": [
    {
     "name": "stdout",
     "output_type": "stream",
     "text": [
      "Epoch #0 - train loss: 0.146808, accuracy: 0.954750 | val loss: 0.092629, accuracy: 0.971500\n",
      "Epoch #1 - train loss: 0.049103, accuracy: 0.985125 | val loss: 0.061797, accuracy: 0.980667\n",
      "Epoch #2 - train loss: 0.034140, accuracy: 0.988542 | val loss: 0.059324, accuracy: 0.982083\n",
      "Epoch #3 - train loss: 0.025178, accuracy: 0.992146 | val loss: 0.051237, accuracy: 0.984583\n",
      "Epoch #4 - train loss: 0.020239, accuracy: 0.993833 | val loss: 0.046568, accuracy: 0.985333\n",
      "Epoch #5 - train loss: 0.015522, accuracy: 0.995750 | val loss: 0.047723, accuracy: 0.984833\n",
      "Epoch #6 - train loss: 0.013201, accuracy: 0.996625 | val loss: 0.046882, accuracy: 0.985917\n",
      "Epoch #7 - train loss: 0.011558, accuracy: 0.997354 | val loss: 0.046846, accuracy: 0.984917\n",
      "Epoch #8 - train loss: 0.010664, accuracy: 0.997667 | val loss: 0.046822, accuracy: 0.986417\n",
      "Epoch #9 - train loss: 0.010169, accuracy: 0.997687 | val loss: 0.046137, accuracy: 0.985917\n",
      "Epoch #10 - train loss: 0.009778, accuracy: 0.998000 | val loss: 0.047074, accuracy: 0.985833\n",
      "Epoch #11 - train loss: 0.009740, accuracy: 0.998021 | val loss: 0.046782, accuracy: 0.985833\n",
      "Epoch #12 - train loss: 0.009510, accuracy: 0.998062 | val loss: 0.046697, accuracy: 0.985833\n",
      "Epoch #13 - train loss: 0.009446, accuracy: 0.998062 | val loss: 0.046717, accuracy: 0.986083\n",
      "Epoch #14 - train loss: 0.009479, accuracy: 0.998125 | val loss: 0.046845, accuracy: 0.986000\n",
      "Wall time: 4min 44s\n"
     ]
    }
   ],
   "source": [
    "# 6010 Параметров\n",
    "\n",
    "model = nn.Sequential(\n",
    "        # In 28x28@1, out 28x28@8 - 80 параметра\n",
    "        nn.Conv2d(1, 8, 3, padding=2),\n",
    "        nn.BatchNorm2d(num_features=8),\n",
    "        nn.ReLU(inplace=True),\n",
    "\n",
    "        # In 28x28@8, out 14x14@8\n",
    "        nn.MaxPool2d(kernel_size=2),\n",
    "\n",
    "        # In 14x14@8, out 12x12@16 - 160 параметра\n",
    "        nn.Conv2d(in_channels=8, out_channels=16, kernel_size=3),\n",
    "        nn.BatchNorm2d(num_features=16),\n",
    "        nn.ReLU(inplace=True),\n",
    "\n",
    "        # In 12x12@16, out 6x6@16\n",
    "        nn.MaxPool2d(kernel_size=2),\n",
    "\n",
    "\n",
    "        Flattener(),\n",
    "\n",
    "        # O7 In 6*6*16, out 10 - 5770 параметров\n",
    "        nn.Linear(6*6*16, 10),\n",
    "      )\n",
    "\n",
    "model.type(torch.FloatTensor)\n",
    "model.to(device)\n",
    "\n",
    "# Подобранные гиперпараметры для обучения сети\n",
    "learning_rates = 10**-2\n",
    "weight_decay = 10**-4\n",
    "step_size = 1\n",
    "gamma = 0.6\n",
    "num_epochs = 15\n",
    "\n",
    "loss = nn.CrossEntropyLoss().type(torch.FloatTensor)\n",
    "optimizer = optim.Adam(model.parameters(), lr=learning_rates, weight_decay=weight_decay)\n",
    "scheduler = optim.lr_scheduler.StepLR(optimizer, step_size=step_size, gamma=gamma)\n",
    "\n",
    "%time train_loss_history, train_acc_history, val_loss_history, val_acc_history = train_model(model, train_loader, valid_loader, loss, optimizer, num_epochs, device, scheduler=scheduler, scheduler_loss=False)"
   ],
   "metadata": {
    "collapsed": false,
    "pycharm": {
     "name": "#%%\n"
    }
   }
  },
  {
   "cell_type": "markdown",
   "source": [
    "Нарисуем график ошибок и точности во время тренировки"
   ],
   "metadata": {
    "collapsed": false,
    "pycharm": {
     "name": "#%% md\n"
    }
   }
  },
  {
   "cell_type": "code",
   "execution_count": 19,
   "outputs": [
    {
     "data": {
      "text/plain": "<Figure size 432x288 with 1 Axes>",
      "image/png": "[encoded data removed]"
     },
     "metadata": {
      "needs_background": "light"
     },
     "output_type": "display_data"
    }
   ],
   "source": [
    "plt.plot(range(1, len(train_loss_history) + 1), train_loss_history, label=\"train loss\")\n",
    "plt.plot(range(1, len(val_loss_history) + 1), val_loss_history, label=\"validate loss\")\n",
    "plt.show()"
   ],
   "metadata": {
    "collapsed": false,
    "pycharm": {
     "name": "#%%\n"
    }
   }
  },
  {
   "cell_type": "code",
   "execution_count": 20,
   "outputs": [
    {
     "data": {
      "text/plain": "<Figure size 432x288 with 1 Axes>",
      "image/png": "[encoded data removed]"
     },
     "metadata": {
      "needs_background": "light"
     },
     "output_type": "display_data"
    }
   ],
   "source": [
    "plt.plot(range(1, len(train_acc_history) + 1), train_acc_history)\n",
    "plt.plot(range(1, len(val_acc_history) + 1), val_acc_history)\n",
    "plt.show()"
   ],
   "metadata": {
    "collapsed": false,
    "pycharm": {
     "name": "#%%\n"
    }
   }
  },
  {
   "cell_type": "markdown",
   "source": [
    "Сохраняем модель для последующих тестов"
   ],
   "metadata": {
    "collapsed": false,
    "pycharm": {
     "name": "#%% md\n"
    }
   }
  },
  {
   "cell_type": "code",
   "execution_count": 22,
   "outputs": [],
   "source": [
    "torch.save(model, \"./model_v3.pt\")"
   ],
   "metadata": {
    "collapsed": false,
    "pycharm": {
     "name": "#%%\n"
    }
   }
  }
 ],
 "metadata": {
  "kernelspec": {
   "display_name": "Python 3",
   "language": "python",
   "name": "python3"
  },
  "language_info": {
   "codemirror_mode": {
    "name": "ipython",
    "version": 2
   },
   "file_extension": ".py",
   "mimetype": "text/x-python",
   "name": "python",
   "nbconvert_exporter": "python",
   "pygments_lexer": "ipython2",
   "version": "2.7.6"
  }
 },
 "nbformat": 4,
 "nbformat_minor": 0
}